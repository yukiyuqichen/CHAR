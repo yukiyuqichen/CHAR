{
 "cells": [
  {
   "cell_type": "code",
   "execution_count": 3,
   "metadata": {},
   "outputs": [
    {
     "name": "stdout",
     "output_type": "stream",
     "text": [
      "^C\n"
     ]
    }
   ],
   "source": [
    "!pip install char_converter --update"
   ]
  },
  {
   "cell_type": "code",
   "execution_count": 6,
   "metadata": {},
   "outputs": [],
   "source": [
    "from char_converter import CharConverter"
   ]
  },
  {
   "cell_type": "code",
   "execution_count": 2,
   "metadata": {},
   "outputs": [
    {
     "name": "stdout",
     "output_type": "stream",
     "text": [
      "郞\n"
     ]
    }
   ],
   "source": [
    "# Convert text, from variant to traditional, one2one\n",
    "\n",
    "text = '苟馀情其訫姱㠯练要兮，镸顑頷亦何伤。'\n",
    "\n",
    "converter = CharConverter('v2t')\n",
    "converted_text = converter.convert(text)\n",
    "\n",
    "print(converted_text)"
   ]
  },
  {
   "cell_type": "code",
   "execution_count": 3,
   "metadata": {},
   "outputs": [
    {
     "name": "stdout",
     "output_type": "stream",
     "text": [
      "苟余情其信姱以练要兮，长顑颔亦何伤。\n"
     ]
    }
   ],
   "source": [
    "# Convert text, from variant to simplified, one2one\n",
    "\n",
    "text = '苟馀情其訫姱㠯练要兮，镸顑頷亦何伤。'\n",
    "\n",
    "converter = CharConverter('v2s')\n",
    "converted_text = converter.convert(text)\n",
    "\n",
    "print(converted_text)"
   ]
  },
  {
   "cell_type": "code",
   "execution_count": 7,
   "metadata": {},
   "outputs": [
    {
     "name": "stdout",
     "output_type": "stream",
     "text": [
      "Conversion mode is set to 'one2many'.\n",
      "【鍾|鐘】靈毓秀\n"
     ]
    }
   ],
   "source": [
    "# Convert text, from variant to traditional, one2many\n",
    "\n",
    "text = '鈡𩄇毓秀'\n",
    "\n",
    "converter = CharConverter('v2t')\n",
    "converter.set_mode('one2many')\n",
    "converted_text = converter.convert(text)\n",
    "\n",
    "print(converted_text)"
   ]
  },
  {
   "cell_type": "code",
   "execution_count": null,
   "metadata": {},
   "outputs": [],
   "source": [
    "!git clone https://github.com/yukiyuqichen/CHAR.git"
   ]
  },
  {
   "cell_type": "code",
   "execution_count": null,
   "metadata": {},
   "outputs": [],
   "source": [
    "# Convert file, from variant to traditional, one2one\n",
    "\n",
    "input_file = 'CHAR/test/input.txt'\n",
    "output_file = 'CHAR/test/output.txt'\n",
    "\n",
    "converter = CharConverter('v2t')\n",
    "converter.convert_file(input_file, output_file)"
   ]
  }
 ],
 "metadata": {
  "kernelspec": {
   "display_name": "Python 3",
   "language": "python",
   "name": "python3"
  },
  "language_info": {
   "codemirror_mode": {
    "name": "ipython",
    "version": 3
   },
   "file_extension": ".py",
   "mimetype": "text/x-python",
   "name": "python",
   "nbconvert_exporter": "python",
   "pygments_lexer": "ipython3",
   "version": "3.10.9"
  },
  "orig_nbformat": 4
 },
 "nbformat": 4,
 "nbformat_minor": 2
}
