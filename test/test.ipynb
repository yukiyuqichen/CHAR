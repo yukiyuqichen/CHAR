{
 "cells": [
  {
   "cell_type": "code",
   "execution_count": 1,
   "metadata": {},
   "outputs": [
    {
     "name": "stdout",
     "output_type": "stream",
     "text": [
      "Requirement already satisfied: char-converter in c:\\programdata\\anaconda3\\envs\\nlp\\lib\\site-packages (0.38)\n",
      "Collecting char-converter\n",
      "  Downloading char_converter-0.39-py3-none-any.whl (158 kB)\n",
      "     ------------------------------------ 158.2/158.2 kB 556.2 kB/s eta 0:00:00\n",
      "Requirement already satisfied: msgpack in c:\\programdata\\anaconda3\\envs\\nlp\\lib\\site-packages (from char-converter) (1.0.7)\n",
      "Requirement already satisfied: setuptools in c:\\programdata\\anaconda3\\envs\\nlp\\lib\\site-packages (from char-converter) (67.6.0)\n",
      "Installing collected packages: char-converter\n",
      "  Attempting uninstall: char-converter\n",
      "    Found existing installation: char-converter 0.38\n",
      "    Uninstalling char-converter-0.38:\n",
      "      Successfully uninstalled char-converter-0.38\n",
      "Successfully installed char-converter-0.39\n"
     ]
    }
   ],
   "source": [
    "!pip install char-converter -U"
   ]
  },
  {
   "cell_type": "code",
   "execution_count": 11,
   "metadata": {},
   "outputs": [],
   "source": [
    "from char_converter import CharConverter"
   ]
  },
  {
   "cell_type": "code",
   "execution_count": 16,
   "metadata": {},
   "outputs": [
    {
     "name": "stdout",
     "output_type": "stream",
     "text": [
      "苟餘情其信姱以練要兮，長顑頷亦何傷。\n"
     ]
    }
   ],
   "source": [
    "# Convert text, from variant to traditional, one2one\n",
    "\n",
    "text = '苟馀情其訫姱㠯练要兮，镸顑頷亦何伤。'\n",
    "\n",
    "converter = CharConverter('v2t')\n",
    "converted_text = converter.convert(text)\n",
    "\n",
    "print(converted_text)"
   ]
  },
  {
   "cell_type": "code",
   "execution_count": 3,
   "metadata": {},
   "outputs": [
    {
     "name": "stdout",
     "output_type": "stream",
     "text": [
      "苟余情其信姱以练要兮，长顑颔亦何伤。\n"
     ]
    }
   ],
   "source": [
    "# Convert text, from variant to simplified, one2one\n",
    "\n",
    "text = '苟馀情其訫姱㠯练要兮，镸顑頷亦何伤。'\n",
    "\n",
    "converter = CharConverter('v2s')\n",
    "converted_text = converter.convert(text)\n",
    "\n",
    "print(converted_text)"
   ]
  },
  {
   "cell_type": "code",
   "execution_count": 7,
   "metadata": {},
   "outputs": [
    {
     "name": "stdout",
     "output_type": "stream",
     "text": [
      "Conversion mode is set to 'one2many'.\n",
      "【鍾|鐘】靈毓秀\n"
     ]
    }
   ],
   "source": [
    "# Convert text, from variant to traditional, one2many\n",
    "\n",
    "text = '鈡𩄇毓秀'\n",
    "\n",
    "converter = CharConverter('v2t')\n",
    "converter.set_mode('one2many')\n",
    "converted_text = converter.convert(text)\n",
    "\n",
    "print(converted_text)"
   ]
  },
  {
   "cell_type": "code",
   "execution_count": null,
   "metadata": {},
   "outputs": [],
   "source": [
    "!git clone https://github.com/yukiyuqichen/CHAR.git"
   ]
  },
  {
   "cell_type": "code",
   "execution_count": null,
   "metadata": {},
   "outputs": [],
   "source": [
    "# Convert file, from variant to traditional, one2one\n",
    "\n",
    "input_file = 'CHAR/test/input.txt'\n",
    "output_file = 'CHAR/test/output.txt'\n",
    "\n",
    "converter = CharConverter('v2t')\n",
    "converter.convert_file(input_file, output_file)"
   ]
  }
 ],
 "metadata": {
  "kernelspec": {
   "display_name": "Python 3",
   "language": "python",
   "name": "python3"
  },
  "language_info": {
   "codemirror_mode": {
    "name": "ipython",
    "version": 3
   },
   "file_extension": ".py",
   "mimetype": "text/x-python",
   "name": "python",
   "nbconvert_exporter": "python",
   "pygments_lexer": "ipython3",
   "version": "3.10.9"
  },
  "orig_nbformat": 4
 },
 "nbformat": 4,
 "nbformat_minor": 2
}
